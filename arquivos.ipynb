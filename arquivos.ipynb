{
 "cells": [
  {
   "cell_type": "markdown",
   "metadata": {},
   "source": [
    "Lidar com arquivos em Python é uma tarefa considerada simples."
   ]
  },
  {
   "cell_type": "code",
   "execution_count": 15,
   "metadata": {},
   "outputs": [
    {
     "data": {
      "text/plain": [
       "['Minha terra tem palmeiras,',\n",
       " 'Onde canta o Sabiá;',\n",
       " 'As aves, que aqui gorjeiam,',\n",
       " 'Não gorjeiam como lá.Nosso céu tem mais estrelas,',\n",
       " 'Nossas várzeas têm mais flores,',\n",
       " 'Nossos bosques têm mais vida,',\n",
       " 'Nossa vida mais amores.']"
      ]
     },
     "execution_count": 15,
     "metadata": {},
     "output_type": "execute_result"
    }
   ],
   "source": [
    "path = 'exemplo.txt'\n",
    "f = open(path)\n",
    "linhas = [x.rstrip() for x in open(path)] #Visualizar as linhas\n",
    "linhas"
   ]
  },
  {
   "cell_type": "markdown",
   "metadata": {},
   "source": [
    "Quando se utiliza 'open', é necessário posteriormente fechar o arquivo de forma explícita.\n",
    "Para facilitar isso, podemos utilizar o 'with', onde o arquivo será automaticamente fechado ao final do bloco."
   ]
  },
  {
   "cell_type": "code",
   "execution_count": 12,
   "metadata": {},
   "outputs": [],
   "source": [
    "path = 'exemplo.txt'\n",
    "with open(path) as f:\n",
    "    linhas = [x.rstrip for x in open(path)]\n",
    "    linhas"
   ]
  },
  {
   "cell_type": "code",
   "execution_count": 23,
   "metadata": {},
   "outputs": [],
   "source": [
    "f.read(2)\n",
    "f.close()"
   ]
  },
  {
   "cell_type": "code",
   "execution_count": null,
   "metadata": {},
   "outputs": [],
   "source": []
  }
 ],
 "metadata": {
  "kernelspec": {
   "display_name": "Python 3",
   "language": "python",
   "name": "python3"
  },
  "language_info": {
   "codemirror_mode": {
    "name": "ipython",
    "version": 3
   },
   "file_extension": ".py",
   "mimetype": "text/x-python",
   "name": "python",
   "nbconvert_exporter": "python",
   "pygments_lexer": "ipython3",
   "version": "3.6.5"
  }
 },
 "nbformat": 4,
 "nbformat_minor": 2
}
