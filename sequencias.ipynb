{
 "cells": [
  {
   "cell_type": "markdown",
   "metadata": {},
   "source": [
    "Enumerate - Muito utilizado para controle de índices\n",
    "O código abaixo transforma a lista em um dicionário, onde os elementos da lista são as chaves(c) e i são os índices gerados."
   ]
  },
  {
   "cell_type": "code",
   "execution_count": 1,
   "metadata": {},
   "outputs": [
    {
     "data": {
      "text/plain": [
       "{'ana': 0, 'nicolas': 1, 'gil': 2}"
      ]
     },
     "execution_count": 1,
     "metadata": {},
     "output_type": "execute_result"
    }
   ],
   "source": [
    "lista = ['ana','nicolas','gil']\n",
    "dicio = {}\n",
    "for i, c in enumerate(lista):\n",
    "    dicio[c]=i\n",
    "    \n",
    "dicio"
   ]
  },
  {
   "cell_type": "markdown",
   "metadata": {},
   "source": [
    "A função \"sorted\" permite ordenar qualquer tipo de listas."
   ]
  },
  {
   "cell_type": "code",
   "execution_count": 4,
   "metadata": {},
   "outputs": [
    {
     "data": {
      "text/plain": [
       "[' ', ' ', 'a', 'a', 'e', 'e', 'm', 'r', 'u', 'v', 'z']"
      ]
     },
     "execution_count": 4,
     "metadata": {},
     "output_type": "execute_result"
    }
   ],
   "source": [
    "nome = ['camaleão','aula','bola','lula']\n",
    "sorted(nome)\n",
    "\n",
    "numeros = [1,3.2,5,7,1,46,633,78,33]\n",
    "sorted(numeros)\n",
    "\n",
    "sorted('era uma vez')"
   ]
  },
  {
   "cell_type": "markdown",
   "metadata": {},
   "source": [
    "zip - Permite 'juntar' duas listas em uma só, relacionando seus objetos.\n",
    "obs: O tamanho da lista gerada é determinado pela lista mais curta."
   ]
  },
  {
   "cell_type": "code",
   "execution_count": 8,
   "metadata": {},
   "outputs": [
    {
     "data": {
      "text/plain": [
       "[(1, 'abacaxi', 12), (2, 'melão', 13), (3, 'caju', 14)]"
      ]
     },
     "execution_count": 8,
     "metadata": {},
     "output_type": "execute_result"
    }
   ],
   "source": [
    "l1 = (1,2,3,4)\n",
    "l2 = ['abacaxi','melão','caju']\n",
    "l3 = {12,13,14}\n",
    "zipped = zip(l1,l2,l3)\n",
    "list(zipped)"
   ]
  },
  {
   "cell_type": "markdown",
   "metadata": {},
   "source": [
    "Outra forma muito interessante de utilizar o \"zip\" é para desparear uma sequência: Transformar uma lista de linhas em colunas."
   ]
  },
  {
   "cell_type": "code",
   "execution_count": 12,
   "metadata": {},
   "outputs": [
    {
     "data": {
      "text/plain": [
       "(('Milena', 'John', 'Ivete', 'Luan'), ('Santos', 'Lenon', 'Silva', 'Duarte'))"
      ]
     },
     "execution_count": 12,
     "metadata": {},
     "output_type": "execute_result"
    }
   ],
   "source": [
    "nomes = [('Milena','Santos'),('John','Lenon'),('Ivete','Silva'),('Luan','Duarte')]\n",
    "p_nome,sobrenome=zip(*nomes)\n",
    "p_nome,sobrenome"
   ]
  },
  {
   "cell_type": "markdown",
   "metadata": {},
   "source": [
    "Dict - Um dos elementos mais importantes de Python, são compostos por keys e values\n",
    "Para apagar um elemento, pode-se usar DEL e POP"
   ]
  },
  {
   "cell_type": "code",
   "execution_count": 15,
   "metadata": {},
   "outputs": [
    {
     "data": {
      "text/plain": [
       "[1, None, 'valor']"
      ]
     },
     "execution_count": 15,
     "metadata": {},
     "output_type": "execute_result"
    }
   ],
   "source": [
    "d = {'a':1,'b':None,'c':'valor'}\n",
    "list(d.keys())\n",
    "list(d.values())"
   ]
  },
  {
   "cell_type": "markdown",
   "metadata": {},
   "source": [
    "Podemos atualizar um dicionário com 'update'."
   ]
  },
  {
   "cell_type": "code",
   "execution_count": 17,
   "metadata": {},
   "outputs": [
    {
     "data": {
      "text/plain": [
       "{'a': 1, 'b': None, 'c': 'valor', 'd': 14, 'e': 15, 'f': 16}"
      ]
     },
     "execution_count": 17,
     "metadata": {},
     "output_type": "execute_result"
    }
   ],
   "source": [
    "d2 = {'d':14,'e':15,'f':16}\n",
    "d.update(d2)\n",
    "d"
   ]
  },
  {
   "cell_type": "code",
   "execution_count": null,
   "metadata": {},
   "outputs": [],
   "source": []
  }
 ],
 "metadata": {
  "kernelspec": {
   "display_name": "Python 3",
   "language": "python",
   "name": "python3"
  },
  "language_info": {
   "codemirror_mode": {
    "name": "ipython",
    "version": 3
   },
   "file_extension": ".py",
   "mimetype": "text/x-python",
   "name": "python",
   "nbconvert_exporter": "python",
   "pygments_lexer": "ipython3",
   "version": "3.6.5"
  }
 },
 "nbformat": 4,
 "nbformat_minor": 2
}
