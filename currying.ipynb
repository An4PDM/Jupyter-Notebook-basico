{
 "cells": [
  {
   "cell_type": "markdown",
   "metadata": {},
   "source": [
    "Currying - Derivar funções de outras já existentes por meio da aplicação parcial de argumentos:"
   ]
  },
  {
   "cell_type": "code",
   "execution_count": 6,
   "metadata": {},
   "outputs": [
    {
     "data": {
      "text/plain": [
       "9"
      ]
     },
     "execution_count": 6,
     "metadata": {},
     "output_type": "execute_result"
    }
   ],
   "source": [
    "def soma(a,b):\n",
    "    return a + b\n",
    "add_cinco = lambda b: soma(5,b)\n",
    "add_cinco(4)\n",
    "# Dizemos que o segundo elemento de 'soma' sofreu currying"
   ]
  },
  {
   "cell_type": "code",
   "execution_count": 7,
   "metadata": {},
   "outputs": [
    {
     "data": {
      "text/plain": [
       "5"
      ]
     },
     "execution_count": 7,
     "metadata": {},
     "output_type": "execute_result"
    }
   ],
   "source": [
    "from functools import partial\n",
    "add_tres = partial(soma,3)\n",
    "add_tres(2)"
   ]
  },
  {
   "cell_type": "markdown",
   "metadata": {},
   "source": [
    "Gerador - Forma concisa de construir um objeto iteravel. Para criar um gerador, utilize a palavra reservada 'yield' ao invés de 'return' na função:"
   ]
  },
  {
   "cell_type": "code",
   "execution_count": 17,
   "metadata": {},
   "outputs": [
    {
     "name": "stdout",
     "output_type": "stream",
     "text": [
      "5\n",
      "5\n",
      "5\n"
     ]
    }
   ],
   "source": [
    "def teste(a=1,b=2):\n",
    "    c = a + b * 2\n",
    "    for i in range(b+1):\n",
    "        yield c \n",
    "t = teste()\n",
    "for x in t:\n",
    "    print(x)\n",
    "    "
   ]
  },
  {
   "cell_type": "markdown",
   "metadata": {},
   "source": [
    "Tratamento de erros - Geralmente, é interessante tratar de erros de forma elegante com o try/except"
   ]
  },
  {
   "cell_type": "code",
   "execution_count": 28,
   "metadata": {},
   "outputs": [
    {
     "data": {
      "text/plain": [
       "(12, 3)"
      ]
     },
     "execution_count": 28,
     "metadata": {},
     "output_type": "execute_result"
    }
   ],
   "source": [
    "def aceita_num(x):\n",
    "    try:\n",
    "        return float(x)\n",
    "    except:\n",
    "        return (x)\n",
    "aceita_num('4')\n",
    "aceita_num('agua')\n",
    "aceita_num((12,3))\n"
   ]
  },
  {
   "cell_type": "code",
   "execution_count": 27,
   "metadata": {},
   "outputs": [
    {
     "data": {
      "text/plain": [
       "(1, 2)"
      ]
     },
     "execution_count": 27,
     "metadata": {},
     "output_type": "execute_result"
    }
   ],
   "source": [
    "def aceita_num(x):\n",
    "    try:\n",
    "        return float(x)\n",
    "    except TypeError:\n",
    "        return (x)\n",
    "aceita_num((1,2))"
   ]
  },
  {
   "cell_type": "markdown",
   "metadata": {},
   "source": [
    "Caso você queira executar uma ação, independentemente do try ou except ter sido executado, utilize 'finally':"
   ]
  },
  {
   "cell_type": "code",
   "execution_count": null,
   "metadata": {},
   "outputs": [],
   "source": [
    "f = open(path,'w')\n",
    "try:\n",
    "    write_to_file(f)\n",
    "except:\n",
    "    print('falha')\n",
    "finally:\n",
    "    f.close()  #Nesse caso o arquivo será fechado no final de qualquer jeito"
   ]
  },
  {
   "cell_type": "markdown",
   "metadata": {},
   "source": [
    "De mesmo modo, talvez você queira proceder apenas se o try executar. Para isso, use o 'else':"
   ]
  },
  {
   "cell_type": "code",
   "execution_count": null,
   "metadata": {},
   "outputs": [],
   "source": [
    "try:\n",
    "    write_to_file(f)\n",
    "except:\n",
    "    print('falha')\n",
    "else:\n",
    "    print('sucesso')\n",
    "finally:\n",
    "    f.close()"
   ]
  }
 ],
 "metadata": {
  "kernelspec": {
   "display_name": "Python 3",
   "language": "python",
   "name": "python3"
  },
  "language_info": {
   "codemirror_mode": {
    "name": "ipython",
    "version": 3
   },
   "file_extension": ".py",
   "mimetype": "text/x-python",
   "name": "python",
   "nbconvert_exporter": "python",
   "pygments_lexer": "ipython3",
   "version": "3.6.5"
  }
 },
 "nbformat": 4,
 "nbformat_minor": 2
}
