{
 "cells": [
  {
   "cell_type": "markdown",
   "metadata": {},
   "source": [
    "Lidar com arquivos em Python é uma tarefa considerada simples."
   ]
  },
  {
   "cell_type": "code",
   "execution_count": 7,
   "metadata": {},
   "outputs": [
    {
     "data": {
      "text/plain": [
       "['Minha terra tem palmeiras,',\n",
       " 'Onde canta o Sabiá;',\n",
       " 'As aves, que aqui gorjeiam,',\n",
       " 'Não gorjeiam como lá.Nosso céu tem mais estrelas,',\n",
       " 'Nossas várzeas têm mais flores,',\n",
       " 'Nossos bosques têm mais vida,',\n",
       " 'Nossa vida mais amores.']"
      ]
     },
     "execution_count": 7,
     "metadata": {},
     "output_type": "execute_result"
    }
   ],
   "source": [
    "path = 'exemplo.txt'\n",
    "f = open(path)\n",
    "linhas = [x.rstrip() for x in open(path)] #Visualizar as linhas\n",
    "linhas"
   ]
  },
  {
   "cell_type": "markdown",
   "metadata": {},
   "source": [
    "Quando se utiliza 'open', é necessário posteriormente fechar o arquivo de forma explícita."
   ]
  },
  {
   "cell_type": "code",
   "execution_count": 8,
   "metadata": {},
   "outputs": [],
   "source": [
    "f.close()"
   ]
  },
  {
   "cell_type": "code",
   "execution_count": null,
   "metadata": {},
   "outputs": [],
   "source": []
  }
 ],
 "metadata": {
  "kernelspec": {
   "display_name": "Python 3",
   "language": "python",
   "name": "python3"
  },
  "language_info": {
   "codemirror_mode": {
    "name": "ipython",
    "version": 3
   },
   "file_extension": ".py",
   "mimetype": "text/x-python",
   "name": "python",
   "nbconvert_exporter": "python",
   "pygments_lexer": "ipython3",
   "version": "3.6.5"
  }
 },
 "nbformat": 4,
 "nbformat_minor": 2
}
