{
 "cells": [
  {
   "cell_type": "markdown",
   "metadata": {},
   "source": [
    "O None permite criar funções que tenham valores nulos e que podem conter posteriormente valores não nulos."
   ]
  },
  {
   "cell_type": "code",
   "execution_count": 1,
   "metadata": {},
   "outputs": [
    {
     "name": "stdout",
     "output_type": "stream",
     "text": [
      "Duas entradas de valores\n",
      "Três entradas de valores.\n"
     ]
    }
   ],
   "source": [
    "def exemplo_none (a,b,c=None):\n",
    "    if c!=None:\n",
    "        print('Três entradas de valores.')\n",
    "    else:\n",
    "        print('Duas entradas de valores')\n",
    "a=12\n",
    "b=3\n",
    "c=4\n",
    "exemplo_none(a,b)\n",
    "exemplo_none(a,b,c)"
   ]
  },
  {
   "cell_type": "raw",
   "metadata": {},
   "source": [
    "Rest/underscore permite fatiar uma lista e retorná-la posteriormente."
   ]
  },
  {
   "cell_type": "code",
   "execution_count": 7,
   "metadata": {},
   "outputs": [
    {
     "data": {
      "text/plain": [
       "[1, 2, 3, 5, 6, 7, 2, 3]"
      ]
     },
     "execution_count": 7,
     "metadata": {},
     "output_type": "execute_result"
    }
   ],
   "source": [
    "#rest ou underscore_ - Para \"cortar\" uma lista\n",
    "l = [1,2,3,4,5,6,7]\n",
    "a,b,*rest=l\n",
    "a,b\n",
    "\n",
    "l.append('morango')\n",
    "l.pop(3)\n",
    "l.remove('morango')\n",
    "\n",
    "a = 'teste'\n",
    "b=(1,2,3)\n",
    "l.extend(a)\n",
    "l.extend(b)\n",
    "\n",
    "l2 = []\n",
    "for i in l:\n",
    "    if isinstance(i,str):\n",
    "        l.remove(i)\n",
    "    else:\n",
    "        l2.append(i)\n",
    "l2\n"
   ]
  },
  {
   "cell_type": "markdown",
   "metadata": {},
   "source": [
    "A função sort permite criar keys."
   ]
  },
  {
   "cell_type": "code",
   "execution_count": 11,
   "metadata": {},
   "outputs": [
    {
     "data": {
      "text/plain": [
       "6"
      ]
     },
     "execution_count": 11,
     "metadata": {},
     "output_type": "execute_result"
    }
   ],
   "source": [
    "#Função sort permite criar keys\n",
    "a=['um','subiu','gato','no telhado']\n",
    "a.sort(key=len)\n",
    "a"
   ]
  },
  {
   "cell_type": "markdown",
   "metadata": {},
   "source": [
    "Bisect - Indica a posição que um elemento deve ser adicionado para manter a lista ordenada"
   ]
  },
  {
   "cell_type": "code",
   "execution_count": 2,
   "metadata": {},
   "outputs": [
    {
     "data": {
      "text/plain": [
       "6"
      ]
     },
     "execution_count": 2,
     "metadata": {},
     "output_type": "execute_result"
    }
   ],
   "source": [
    "import bisect\n",
    "b = [1,2,3,4,5,5,6,9]\n",
    "bisect.bisect(b,10)\n"
   ]
  },
  {
   "cell_type": "code",
   "execution_count": null,
   "metadata": {},
   "outputs": [],
   "source": [
    "#Bisect não analisa se uma lista está ordenada, podendo levar a resultados incorretos\n",
    "c = [11,2,7,3,6,4]\n",
    "bisect.bisect(c,5)"
   ]
  }
 ],
 "metadata": {
  "kernelspec": {
   "display_name": "Python 3",
   "language": "python",
   "name": "python3"
  },
  "language_info": {
   "codemirror_mode": {
    "name": "ipython",
    "version": 3
   },
   "file_extension": ".py",
   "mimetype": "text/x-python",
   "name": "python",
   "nbconvert_exporter": "python",
   "pygments_lexer": "ipython3",
   "version": "3.6.5"
  }
 },
 "nbformat": 4,
 "nbformat_minor": 2
}
